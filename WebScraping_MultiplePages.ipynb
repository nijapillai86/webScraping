{
  "nbformat": 4,
  "nbformat_minor": 0,
  "metadata": {
    "colab": {
      "name": "WebScraping-MultiplePages.ipynb",
      "provenance": [],
      "collapsed_sections": []
    },
    "kernelspec": {
      "name": "python3",
      "display_name": "Python 3"
    },
    "language_info": {
      "name": "python"
    }
  },
  "cells": [
    {
      "cell_type": "code",
      "metadata": {
        "id": "GPUxFHazJr2w"
      },
      "source": [
        "import bs4\n",
        "from bs4 import BeautifulSoup as bs\n",
        "import requests\n",
        "import pandas as pd\n",
        "import numpy as np\n",
        "import re\n",
        "import csv\n",
        "import re\n",
        "import seaborn as sns\n",
        "import matplotlib.pyplot as plt"
      ],
      "execution_count": 67,
      "outputs": []
    },
    {
      "cell_type": "code",
      "metadata": {
        "id": "7xsjuNdMJzwu"
      },
      "source": [
        "page = 1\n",
        "\n",
        "brand_name=[]\n",
        "price=[]\n",
        "tv_dis=[]\n",
        "tv_rate=[]\n",
        "display=[]\n",
        "hd=[]\n",
        "os=[]\n",
        "\n",
        "reso=[]\n",
        "sound=[]\n",
        "\n",
        "while page <= 20:\n",
        "    page = page + 1\n",
        "    url=f\"https://www.flipkart.com/televisions/pr?sid=ckf%2Cczl&param=1&wid=10.productCard.PMU_V2_5&page={page}\"\n",
        "    #url=f\"https://www.flipkart.com/televisions/pr?sid=ckf%2Cczl&p%5B%5D=facets.screen_size%255B%255D%3D48%2B-%2B55%2Binch&param=1&wid=10.productCard.PMU_V2_5&page={page}\"\n",
        "    # url=f\"https://www.flipkart.com/search?count=40&otracker=CLP_filters&p%5B%5D=facets.smart_tv%255B%255D%3DYes&sid=ckf%2Fczl&otracker=nmenu_sub_TVs+and+Appliances_0_Smart+and+Ultra+HD&otracker=nmenu_sub_TVs+%26+Appliances_0_Smart+%26+Ultra+HD&otracker=nmenu_sub_TVs+%26+Appliances_0_Smart+%26+Ultra+HD&p%5B%5D=facets.price_range.from%3DMin&p%5B%5D=facets.price_range.to%3D60000&p%5B%5D=facets.resolution%255B%255D%3DUltra%2BHD%2B%25284K%2529&p%5B%5D=facets.brand%255B%255D%3DSAMSUNG&p%5B%5D=facets.brand%255B%255D%3DOnePlus&p%5B%5D=facets.brand%255B%255D%3DLG&p%5B%5D=facets.brand%255B%255D%3DSONY&p%5B%5D=facets.brand%255B%255D%3DPanasonic&p%5B%5D=facets.brand%255B%255D%3DHaier&p%5B%5D=facets.brand%255B%255D%3DMOTOROLA&p%5B%5D=facets.brand%255B%255D%3DHisense&p%5B%5D=facets.brand%255B%255D%3DMi&p%5B%5D=facets.brand%255B%255D%3DLloyd&p%5B%5D=facets.brand%255B%255D%3DTOSHIBA&p%5B%5D=facets.brand%255B%255D%3DVu&p%5B%5D=facets.brand%255B%255D%3DTCL&page={page}\"\n",
        "    response = requests.get(url)\n",
        "    html = response.content    \n",
        "    soup = bs(html,'html.parser')\n",
        "    container = soup.find_all('div', class_='_2kHMtA')\n",
        "    for ele in container:\n",
        "      name=ele.find('div',class_='_4rR01T')\n",
        "      dis_size= re.findall(r'\\d+[.]?\\d+[\\s](?:cm|mm|inch)',name.text.lower())\n",
        "      # print(name.text,'>>',dis_size)\n",
        "      display.append(dis_size[0].split(' ')[0])\n",
        "      # print(\"jfgj\",dis_size[0].split(' ')[0])\n",
        "      brand_name.append(name.text.split(dis_size[0])[0])\n",
        "      # # print(len(brand_name))\n",
        "\n",
        "      disprice=ele.find('div', class_='_30jeq3 _1_WHN1')\n",
        "      # print(\"jfgj\",disprice)\n",
        "      price.append(disprice.text) if type(disprice) == bs4.element.Tag else price.append(np.nan) \n",
        "      # print(len(price))\n",
        "\n",
        "      discount=ele.find('div', class_='_3Ay6Sb')\n",
        "      tv_dis.append(discount.text) if type(discount) == bs4.element.Tag else tv_dis.append(np.nan) \n",
        "\n",
        "      rating=ele.find('div', class_='_3LWZlK')\n",
        "      tv_rate.append(rating.text) if type(rating) == bs4.element.Tag else tv_rate.append(np.nan) \n",
        "  \n",
        "      specification = ele.find_all('li',class_=\"rgWa7D\")\n",
        "      os_status=False\n",
        "      sound_status=False\n",
        "      for spec in specification:\n",
        "        #print(\"spec \",spec)\n",
        "        s= spec.text\n",
        "        if \"Pixels\" in s:\n",
        "            sreso= re.findall(r'\\d+[\\s]?[x][\\s]?\\d+[\\s]?', s)\n",
        "            reso.append(sreso[0]) if sreso  else reso.append(np.nan)\n",
        "        if \"Speaker Output\" in s:\n",
        "            sound_status=True\n",
        "            speaker = re.findall(r'\\d+[\\s]?',s)\n",
        "            sound.append(speaker[0]) if speaker else sound.append(np.nan)\n",
        "        if \"Operating System:\" in s:\n",
        "            os_status=True\n",
        "            os.append(s.split('Operating System:')[1].strip()) if s else os.append(np.nan)\n",
        "      if not os_status:\n",
        "        os.append(np.nan)\n",
        "      if not sound_status:\n",
        "        sound.append(np.nan)        "
      ],
      "execution_count": 133,
      "outputs": []
    },
    {
      "cell_type": "markdown",
      "metadata": {
        "id": "7MGD6CO5KLIS"
      },
      "source": [
        "Check all lists length have same length to create a dataframe"
      ]
    },
    {
      "cell_type": "code",
      "metadata": {
        "colab": {
          "base_uri": "https://localhost:8080/"
        },
        "id": "RETgGtXYKFtt",
        "outputId": "238a07d1-3d18-4b07-bb41-ec6af08b3ab2"
      },
      "source": [
        "print(len(brand_name))\n",
        "print(len(price))\n",
        "print(len(tv_dis))\n",
        "print(len(tv_rate))\n",
        "print(len(reso))\n",
        "print(len(sound))\n",
        "print(len(display))\n",
        "print(len(os))"
      ],
      "execution_count": 134,
      "outputs": [
        {
          "output_type": "stream",
          "name": "stdout",
          "text": [
            "480\n",
            "480\n",
            "480\n",
            "480\n",
            "480\n",
            "480\n",
            "480\n",
            "480\n"
          ]
        }
      ]
    },
    {
      "cell_type": "code",
      "metadata": {
        "colab": {
          "base_uri": "https://localhost:8080/",
          "height": 206
        },
        "id": "YdpKZFOaKYYQ",
        "outputId": "083ba7ae-5915-4fce-b34c-c631aef89ab3"
      },
      "source": [
        "df=pd.DataFrame({'Product_Name':brand_name,\"Price\":price,\"Total Discount\":tv_dis,'Rating':tv_rate,'Display_size':display ,'Operating_system': os,'Screen_Resolution':reso,'Speaker Output':sound})\n",
        "df.head()"
      ],
      "execution_count": 135,
      "outputs": [
        {
          "output_type": "execute_result",
          "data": {
            "text/html": [
              "<div>\n",
              "<style scoped>\n",
              "    .dataframe tbody tr th:only-of-type {\n",
              "        vertical-align: middle;\n",
              "    }\n",
              "\n",
              "    .dataframe tbody tr th {\n",
              "        vertical-align: top;\n",
              "    }\n",
              "\n",
              "    .dataframe thead th {\n",
              "        text-align: right;\n",
              "    }\n",
              "</style>\n",
              "<table border=\"1\" class=\"dataframe\">\n",
              "  <thead>\n",
              "    <tr style=\"text-align: right;\">\n",
              "      <th></th>\n",
              "      <th>Product_Name</th>\n",
              "      <th>Price</th>\n",
              "      <th>Total Discount</th>\n",
              "      <th>Rating</th>\n",
              "      <th>Display_size</th>\n",
              "      <th>Operating_system</th>\n",
              "      <th>Screen_Resolution</th>\n",
              "      <th>Speaker Output</th>\n",
              "    </tr>\n",
              "  </thead>\n",
              "  <tbody>\n",
              "    <tr>\n",
              "      <th>0</th>\n",
              "      <td>Vu Premium</td>\n",
              "      <td>₹38,999</td>\n",
              "      <td>48% off</td>\n",
              "      <td>4.4</td>\n",
              "      <td>139</td>\n",
              "      <td>Android</td>\n",
              "      <td>3840 x 2160</td>\n",
              "      <td>30</td>\n",
              "    </tr>\n",
              "    <tr>\n",
              "      <th>1</th>\n",
              "      <td>Mi 4C</td>\n",
              "      <td>₹14,999</td>\n",
              "      <td>25% off</td>\n",
              "      <td>4.3</td>\n",
              "      <td>80</td>\n",
              "      <td>Android</td>\n",
              "      <td>1366 x 768</td>\n",
              "      <td>20</td>\n",
              "    </tr>\n",
              "    <tr>\n",
              "      <th>2</th>\n",
              "      <td>Mi 5X</td>\n",
              "      <td>₹41,999</td>\n",
              "      <td>30% off</td>\n",
              "      <td>4.2</td>\n",
              "      <td>125.7</td>\n",
              "      <td>Android</td>\n",
              "      <td>3840 x 2160</td>\n",
              "      <td>40</td>\n",
              "    </tr>\n",
              "    <tr>\n",
              "      <th>3</th>\n",
              "      <td>SAMSUNG</td>\n",
              "      <td>₹17,499</td>\n",
              "      <td>12% off</td>\n",
              "      <td>4.3</td>\n",
              "      <td>80</td>\n",
              "      <td>Tizen</td>\n",
              "      <td>1366 x 768</td>\n",
              "      <td>20</td>\n",
              "    </tr>\n",
              "    <tr>\n",
              "      <th>4</th>\n",
              "      <td>TCL P615</td>\n",
              "      <td>₹33,999</td>\n",
              "      <td>46% off</td>\n",
              "      <td>4.4</td>\n",
              "      <td>126</td>\n",
              "      <td>NaN</td>\n",
              "      <td>3840x2160</td>\n",
              "      <td>24</td>\n",
              "    </tr>\n",
              "  </tbody>\n",
              "</table>\n",
              "</div>"
            ],
            "text/plain": [
              "  Product_Name    Price  ... Screen_Resolution Speaker Output\n",
              "0  Vu Premium   ₹38,999  ...      3840 x 2160             30 \n",
              "1       Mi 4C   ₹14,999  ...       1366 x 768             20 \n",
              "2       Mi 5X   ₹41,999  ...      3840 x 2160             40 \n",
              "3     SAMSUNG   ₹17,499  ...       1366 x 768             20 \n",
              "4    TCL P615   ₹33,999  ...        3840x2160              24\n",
              "\n",
              "[5 rows x 8 columns]"
            ]
          },
          "metadata": {},
          "execution_count": 135
        }
      ]
    },
    {
      "cell_type": "code",
      "metadata": {
        "colab": {
          "base_uri": "https://localhost:8080/"
        },
        "id": "RIuKVS0QKeam",
        "outputId": "88ddccf9-d6ed-4c4c-e05c-ad4b9af5b3f7"
      },
      "source": [
        "df.info()"
      ],
      "execution_count": 136,
      "outputs": [
        {
          "output_type": "stream",
          "name": "stdout",
          "text": [
            "<class 'pandas.core.frame.DataFrame'>\n",
            "RangeIndex: 480 entries, 0 to 479\n",
            "Data columns (total 8 columns):\n",
            " #   Column             Non-Null Count  Dtype \n",
            "---  ------             --------------  ----- \n",
            " 0   Product_Name       480 non-null    object\n",
            " 1   Price              480 non-null    object\n",
            " 2   Total Discount     452 non-null    object\n",
            " 3   Rating             431 non-null    object\n",
            " 4   Display_size       480 non-null    object\n",
            " 5   Operating_system   405 non-null    object\n",
            " 6   Screen_Resolution  465 non-null    object\n",
            " 7   Speaker Output     477 non-null    object\n",
            "dtypes: object(8)\n",
            "memory usage: 30.1+ KB\n"
          ]
        }
      ]
    },
    {
      "cell_type": "markdown",
      "metadata": {
        "id": "GdUKBYVGLbGZ"
      },
      "source": [
        "**Preprocessing Stage**"
      ]
    },
    {
      "cell_type": "markdown",
      "metadata": {
        "id": "hif5ht81Kl-H"
      },
      "source": [
        "Check any column have missing values"
      ]
    },
    {
      "cell_type": "code",
      "metadata": {
        "colab": {
          "base_uri": "https://localhost:8080/"
        },
        "id": "qonRQbeqKkHO",
        "outputId": "e091884a-0ee1-446c-992d-ce517241d9c1"
      },
      "source": [
        "df.isnull().sum()"
      ],
      "execution_count": 137,
      "outputs": [
        {
          "output_type": "execute_result",
          "data": {
            "text/plain": [
              "Product_Name          0\n",
              "Price                 0\n",
              "Total Discount       28\n",
              "Rating               49\n",
              "Display_size          0\n",
              "Operating_system     75\n",
              "Screen_Resolution    15\n",
              "Speaker Output        3\n",
              "dtype: int64"
            ]
          },
          "metadata": {},
          "execution_count": 137
        }
      ]
    },
    {
      "cell_type": "markdown",
      "metadata": {
        "id": "pcZ5LReTLN0H"
      },
      "source": [
        "Clean column values suitable for processing"
      ]
    },
    {
      "cell_type": "code",
      "metadata": {
        "colab": {
          "base_uri": "https://localhost:8080/",
          "height": 206
        },
        "id": "fSlcTc7PKwZX",
        "outputId": "b3f54fbc-e79c-46ec-fe42-a471b2c8b061"
      },
      "source": [
        "# removing Rs sign from Price Column\n",
        "df['Price']=df['Price'].replace({'₹':\"\"},regex=True)\n",
        "df['Price'] = df['Price'].replace({',' : ''}, regex=True)\n",
        "\n",
        "# Removing % sign from Total Discount Column\n",
        "df['Total Discount']=df['Total Discount'].str.split('%').str[0]\n",
        "df.head()"
      ],
      "execution_count": 138,
      "outputs": [
        {
          "output_type": "execute_result",
          "data": {
            "text/html": [
              "<div>\n",
              "<style scoped>\n",
              "    .dataframe tbody tr th:only-of-type {\n",
              "        vertical-align: middle;\n",
              "    }\n",
              "\n",
              "    .dataframe tbody tr th {\n",
              "        vertical-align: top;\n",
              "    }\n",
              "\n",
              "    .dataframe thead th {\n",
              "        text-align: right;\n",
              "    }\n",
              "</style>\n",
              "<table border=\"1\" class=\"dataframe\">\n",
              "  <thead>\n",
              "    <tr style=\"text-align: right;\">\n",
              "      <th></th>\n",
              "      <th>Product_Name</th>\n",
              "      <th>Price</th>\n",
              "      <th>Total Discount</th>\n",
              "      <th>Rating</th>\n",
              "      <th>Display_size</th>\n",
              "      <th>Operating_system</th>\n",
              "      <th>Screen_Resolution</th>\n",
              "      <th>Speaker Output</th>\n",
              "    </tr>\n",
              "  </thead>\n",
              "  <tbody>\n",
              "    <tr>\n",
              "      <th>0</th>\n",
              "      <td>Vu Premium</td>\n",
              "      <td>38999</td>\n",
              "      <td>48</td>\n",
              "      <td>4.4</td>\n",
              "      <td>139</td>\n",
              "      <td>Android</td>\n",
              "      <td>3840 x 2160</td>\n",
              "      <td>30</td>\n",
              "    </tr>\n",
              "    <tr>\n",
              "      <th>1</th>\n",
              "      <td>Mi 4C</td>\n",
              "      <td>14999</td>\n",
              "      <td>25</td>\n",
              "      <td>4.3</td>\n",
              "      <td>80</td>\n",
              "      <td>Android</td>\n",
              "      <td>1366 x 768</td>\n",
              "      <td>20</td>\n",
              "    </tr>\n",
              "    <tr>\n",
              "      <th>2</th>\n",
              "      <td>Mi 5X</td>\n",
              "      <td>41999</td>\n",
              "      <td>30</td>\n",
              "      <td>4.2</td>\n",
              "      <td>125.7</td>\n",
              "      <td>Android</td>\n",
              "      <td>3840 x 2160</td>\n",
              "      <td>40</td>\n",
              "    </tr>\n",
              "    <tr>\n",
              "      <th>3</th>\n",
              "      <td>SAMSUNG</td>\n",
              "      <td>17499</td>\n",
              "      <td>12</td>\n",
              "      <td>4.3</td>\n",
              "      <td>80</td>\n",
              "      <td>Tizen</td>\n",
              "      <td>1366 x 768</td>\n",
              "      <td>20</td>\n",
              "    </tr>\n",
              "    <tr>\n",
              "      <th>4</th>\n",
              "      <td>TCL P615</td>\n",
              "      <td>33999</td>\n",
              "      <td>46</td>\n",
              "      <td>4.4</td>\n",
              "      <td>126</td>\n",
              "      <td>NaN</td>\n",
              "      <td>3840x2160</td>\n",
              "      <td>24</td>\n",
              "    </tr>\n",
              "  </tbody>\n",
              "</table>\n",
              "</div>"
            ],
            "text/plain": [
              "  Product_Name  Price  ... Screen_Resolution Speaker Output\n",
              "0  Vu Premium   38999  ...      3840 x 2160             30 \n",
              "1       Mi 4C   14999  ...       1366 x 768             20 \n",
              "2       Mi 5X   41999  ...      3840 x 2160             40 \n",
              "3     SAMSUNG   17499  ...       1366 x 768             20 \n",
              "4    TCL P615   33999  ...        3840x2160              24\n",
              "\n",
              "[5 rows x 8 columns]"
            ]
          },
          "metadata": {},
          "execution_count": 138
        }
      ]
    },
    {
      "cell_type": "code",
      "metadata": {
        "id": "3xg4vZO8MHWn"
      },
      "source": [
        "# print(df['Rating'].unique())\n",
        "# print(df['Rating'].value_counts())\n"
      ],
      "execution_count": 139,
      "outputs": []
    },
    {
      "cell_type": "code",
      "metadata": {
        "id": "1V05NMNDVMRx"
      },
      "source": [
        "# print(df['Total Discount'].unique())\n",
        "# print(df['Total Discount'].value_counts())"
      ],
      "execution_count": 140,
      "outputs": []
    },
    {
      "cell_type": "code",
      "metadata": {
        "id": "FTUW01oVLpD3"
      },
      "source": [
        "# rating_mode = df['Rating'].mode()\n",
        "# rating_mode"
      ],
      "execution_count": 141,
      "outputs": []
    },
    {
      "cell_type": "code",
      "metadata": {
        "id": "70DwvML4XKq9"
      },
      "source": [
        "df['Total Discount'].fillna(0, inplace=True)\n"
      ],
      "execution_count": 142,
      "outputs": []
    },
    {
      "cell_type": "code",
      "metadata": {
        "colab": {
          "base_uri": "https://localhost:8080/"
        },
        "id": "WCD2rAdBe5zw",
        "outputId": "256d0d3c-ef6a-4f9a-a38a-53acf2c4e6be"
      },
      "source": [
        "df['Operating_system'].value_counts()"
      ],
      "execution_count": 143,
      "outputs": [
        {
          "output_type": "execute_result",
          "data": {
            "text/plain": [
              "Android          224\n",
              "Tizen             86\n",
              "WebOS             39\n",
              "Android Based     16\n",
              "Linux based       14\n",
              "VIDAA             14\n",
              "Google TV          5\n",
              "Linux              5\n",
              "HomeOS             2\n",
              "Name: Operating_system, dtype: int64"
            ]
          },
          "metadata": {},
          "execution_count": 143
        }
      ]
    },
    {
      "cell_type": "code",
      "metadata": {
        "id": "n3LIMNjJMDpo"
      },
      "source": [
        "df['Rating'].fillna(df['Rating'].mode()[0], inplace=True)\n",
        "df['Total Discount'].fillna(df['Total Discount'].mode()[0], inplace=True)\n",
        "df['Screen_Resolution'].fillna(df['Screen_Resolution'].mode()[0], inplace=True)\n",
        "df['Speaker Output'].fillna(df['Speaker Output'].mode()[0], inplace=True)\n",
        "df['Operating_system'].fillna(df['Operating_system'].mode()[0], inplace=True)"
      ],
      "execution_count": 144,
      "outputs": []
    },
    {
      "cell_type": "code",
      "metadata": {
        "id": "a_hBbcWtPmRi",
        "colab": {
          "base_uri": "https://localhost:8080/",
          "height": 206
        },
        "outputId": "08f9e885-aeb2-4a29-bf8c-3b082eb5d52c"
      },
      "source": [
        "df.head()"
      ],
      "execution_count": 145,
      "outputs": [
        {
          "output_type": "execute_result",
          "data": {
            "text/html": [
              "<div>\n",
              "<style scoped>\n",
              "    .dataframe tbody tr th:only-of-type {\n",
              "        vertical-align: middle;\n",
              "    }\n",
              "\n",
              "    .dataframe tbody tr th {\n",
              "        vertical-align: top;\n",
              "    }\n",
              "\n",
              "    .dataframe thead th {\n",
              "        text-align: right;\n",
              "    }\n",
              "</style>\n",
              "<table border=\"1\" class=\"dataframe\">\n",
              "  <thead>\n",
              "    <tr style=\"text-align: right;\">\n",
              "      <th></th>\n",
              "      <th>Product_Name</th>\n",
              "      <th>Price</th>\n",
              "      <th>Total Discount</th>\n",
              "      <th>Rating</th>\n",
              "      <th>Display_size</th>\n",
              "      <th>Operating_system</th>\n",
              "      <th>Screen_Resolution</th>\n",
              "      <th>Speaker Output</th>\n",
              "    </tr>\n",
              "  </thead>\n",
              "  <tbody>\n",
              "    <tr>\n",
              "      <th>0</th>\n",
              "      <td>Vu Premium</td>\n",
              "      <td>38999</td>\n",
              "      <td>48</td>\n",
              "      <td>4.4</td>\n",
              "      <td>139</td>\n",
              "      <td>Android</td>\n",
              "      <td>3840 x 2160</td>\n",
              "      <td>30</td>\n",
              "    </tr>\n",
              "    <tr>\n",
              "      <th>1</th>\n",
              "      <td>Mi 4C</td>\n",
              "      <td>14999</td>\n",
              "      <td>25</td>\n",
              "      <td>4.3</td>\n",
              "      <td>80</td>\n",
              "      <td>Android</td>\n",
              "      <td>1366 x 768</td>\n",
              "      <td>20</td>\n",
              "    </tr>\n",
              "    <tr>\n",
              "      <th>2</th>\n",
              "      <td>Mi 5X</td>\n",
              "      <td>41999</td>\n",
              "      <td>30</td>\n",
              "      <td>4.2</td>\n",
              "      <td>125.7</td>\n",
              "      <td>Android</td>\n",
              "      <td>3840 x 2160</td>\n",
              "      <td>40</td>\n",
              "    </tr>\n",
              "    <tr>\n",
              "      <th>3</th>\n",
              "      <td>SAMSUNG</td>\n",
              "      <td>17499</td>\n",
              "      <td>12</td>\n",
              "      <td>4.3</td>\n",
              "      <td>80</td>\n",
              "      <td>Tizen</td>\n",
              "      <td>1366 x 768</td>\n",
              "      <td>20</td>\n",
              "    </tr>\n",
              "    <tr>\n",
              "      <th>4</th>\n",
              "      <td>TCL P615</td>\n",
              "      <td>33999</td>\n",
              "      <td>46</td>\n",
              "      <td>4.4</td>\n",
              "      <td>126</td>\n",
              "      <td>Android</td>\n",
              "      <td>3840x2160</td>\n",
              "      <td>24</td>\n",
              "    </tr>\n",
              "  </tbody>\n",
              "</table>\n",
              "</div>"
            ],
            "text/plain": [
              "  Product_Name  Price  ... Screen_Resolution Speaker Output\n",
              "0  Vu Premium   38999  ...      3840 x 2160             30 \n",
              "1       Mi 4C   14999  ...       1366 x 768             20 \n",
              "2       Mi 5X   41999  ...      3840 x 2160             40 \n",
              "3     SAMSUNG   17499  ...       1366 x 768             20 \n",
              "4    TCL P615   33999  ...        3840x2160              24\n",
              "\n",
              "[5 rows x 8 columns]"
            ]
          },
          "metadata": {},
          "execution_count": 145
        }
      ]
    },
    {
      "cell_type": "code",
      "metadata": {
        "colab": {
          "base_uri": "https://localhost:8080/"
        },
        "id": "8NnqQF4Fjisu",
        "outputId": "4cec7019-b369-4442-b7ea-bfd832ffa22c"
      },
      "source": [
        "# Import label encoder\n",
        "from sklearn import preprocessing\n",
        " \n",
        "# label_encoder object .\n",
        "label_encoder = preprocessing.LabelEncoder()\n",
        " \n",
        "# Encode labels in column 'Operating_system'.\n",
        "df['Operating_system']= label_encoder.fit_transform(df['Operating_system'])\n",
        " \n",
        "df['Operating_system'].unique()"
      ],
      "execution_count": 146,
      "outputs": [
        {
          "output_type": "execute_result",
          "data": {
            "text/plain": [
              "array([0, 6, 1, 8, 7, 5, 4, 2, 3])"
            ]
          },
          "metadata": {},
          "execution_count": 146
        }
      ]
    },
    {
      "cell_type": "code",
      "metadata": {
        "colab": {
          "base_uri": "https://localhost:8080/"
        },
        "id": "xrEzR5RB1ZPC",
        "outputId": "905d63dc-79a2-4948-8720-0a7fe7e6ac83"
      },
      "source": [
        "df.isnull().sum()"
      ],
      "execution_count": 147,
      "outputs": [
        {
          "output_type": "execute_result",
          "data": {
            "text/plain": [
              "Product_Name         0\n",
              "Price                0\n",
              "Total Discount       0\n",
              "Rating               0\n",
              "Display_size         0\n",
              "Operating_system     0\n",
              "Screen_Resolution    0\n",
              "Speaker Output       0\n",
              "dtype: int64"
            ]
          },
          "metadata": {},
          "execution_count": 147
        }
      ]
    },
    {
      "cell_type": "code",
      "metadata": {
        "colab": {
          "base_uri": "https://localhost:8080/"
        },
        "id": "3EoS0n1Uh2cB",
        "outputId": "a3a620c7-e508-467b-8fe3-17a21baf071a"
      },
      "source": [
        "df['Screen_Resolution'].value_counts()"
      ],
      "execution_count": 148,
      "outputs": [
        {
          "output_type": "execute_result",
          "data": {
            "text/plain": [
              "3840 x 2160     326\n",
              "1366 x 768       75\n",
              "1920 x 1080      59\n",
              "3840x2160        14\n",
              "3860 x 2160       2\n",
              "1080 x 1920       1\n",
              "3840 x 2160       1\n",
              "1366x768          1\n",
              "1366 x 786        1\n",
              "Name: Screen_Resolution, dtype: int64"
            ]
          },
          "metadata": {},
          "execution_count": 148
        }
      ]
    },
    {
      "cell_type": "code",
      "metadata": {
        "colab": {
          "base_uri": "https://localhost:8080/"
        },
        "id": "1ho6pUIghR1H",
        "outputId": "2aa67862-3388-44e7-e32d-a3b052e5ded9"
      },
      "source": [
        "# Encode labels in column 'Screen_Resolution'.\n",
        "df['Screen_Resolution']= label_encoder.fit_transform(df['Screen_Resolution'])\n",
        " \n",
        "df['Screen_Resolution'].unique()"
      ],
      "execution_count": 149,
      "outputs": [
        {
          "output_type": "execute_result",
          "data": {
            "text/plain": [
              "array([6, 1, 7, 4, 8, 2, 0, 3, 5])"
            ]
          },
          "metadata": {},
          "execution_count": 149
        }
      ]
    },
    {
      "cell_type": "code",
      "metadata": {
        "colab": {
          "base_uri": "https://localhost:8080/",
          "height": 206
        },
        "id": "5vVKs_i4jKEe",
        "outputId": "8453f7f3-6d7f-4ea4-fe74-78f0580cc5f7"
      },
      "source": [
        "df.head()"
      ],
      "execution_count": 150,
      "outputs": [
        {
          "output_type": "execute_result",
          "data": {
            "text/html": [
              "<div>\n",
              "<style scoped>\n",
              "    .dataframe tbody tr th:only-of-type {\n",
              "        vertical-align: middle;\n",
              "    }\n",
              "\n",
              "    .dataframe tbody tr th {\n",
              "        vertical-align: top;\n",
              "    }\n",
              "\n",
              "    .dataframe thead th {\n",
              "        text-align: right;\n",
              "    }\n",
              "</style>\n",
              "<table border=\"1\" class=\"dataframe\">\n",
              "  <thead>\n",
              "    <tr style=\"text-align: right;\">\n",
              "      <th></th>\n",
              "      <th>Product_Name</th>\n",
              "      <th>Price</th>\n",
              "      <th>Total Discount</th>\n",
              "      <th>Rating</th>\n",
              "      <th>Display_size</th>\n",
              "      <th>Operating_system</th>\n",
              "      <th>Screen_Resolution</th>\n",
              "      <th>Speaker Output</th>\n",
              "    </tr>\n",
              "  </thead>\n",
              "  <tbody>\n",
              "    <tr>\n",
              "      <th>0</th>\n",
              "      <td>Vu Premium</td>\n",
              "      <td>38999</td>\n",
              "      <td>48</td>\n",
              "      <td>4.4</td>\n",
              "      <td>139</td>\n",
              "      <td>0</td>\n",
              "      <td>6</td>\n",
              "      <td>30</td>\n",
              "    </tr>\n",
              "    <tr>\n",
              "      <th>1</th>\n",
              "      <td>Mi 4C</td>\n",
              "      <td>14999</td>\n",
              "      <td>25</td>\n",
              "      <td>4.3</td>\n",
              "      <td>80</td>\n",
              "      <td>0</td>\n",
              "      <td>1</td>\n",
              "      <td>20</td>\n",
              "    </tr>\n",
              "    <tr>\n",
              "      <th>2</th>\n",
              "      <td>Mi 5X</td>\n",
              "      <td>41999</td>\n",
              "      <td>30</td>\n",
              "      <td>4.2</td>\n",
              "      <td>125.7</td>\n",
              "      <td>0</td>\n",
              "      <td>6</td>\n",
              "      <td>40</td>\n",
              "    </tr>\n",
              "    <tr>\n",
              "      <th>3</th>\n",
              "      <td>SAMSUNG</td>\n",
              "      <td>17499</td>\n",
              "      <td>12</td>\n",
              "      <td>4.3</td>\n",
              "      <td>80</td>\n",
              "      <td>6</td>\n",
              "      <td>1</td>\n",
              "      <td>20</td>\n",
              "    </tr>\n",
              "    <tr>\n",
              "      <th>4</th>\n",
              "      <td>TCL P615</td>\n",
              "      <td>33999</td>\n",
              "      <td>46</td>\n",
              "      <td>4.4</td>\n",
              "      <td>126</td>\n",
              "      <td>0</td>\n",
              "      <td>7</td>\n",
              "      <td>24</td>\n",
              "    </tr>\n",
              "  </tbody>\n",
              "</table>\n",
              "</div>"
            ],
            "text/plain": [
              "  Product_Name  Price  ... Screen_Resolution Speaker Output\n",
              "0  Vu Premium   38999  ...                 6            30 \n",
              "1       Mi 4C   14999  ...                 1            20 \n",
              "2       Mi 5X   41999  ...                 6            40 \n",
              "3     SAMSUNG   17499  ...                 1            20 \n",
              "4    TCL P615   33999  ...                 7             24\n",
              "\n",
              "[5 rows x 8 columns]"
            ]
          },
          "metadata": {},
          "execution_count": 150
        }
      ]
    },
    {
      "cell_type": "code",
      "metadata": {
        "id": "zMQiibOv1tyD"
      },
      "source": [
        "# Save cleaned and processed data to a CSV file\n",
        "df.to_csv('DatsSetCap.csv', index=False)"
      ],
      "execution_count": 151,
      "outputs": []
    },
    {
      "cell_type": "code",
      "metadata": {
        "colab": {
          "base_uri": "https://localhost:8080/",
          "height": 206
        },
        "id": "BEgkeE7w2md9",
        "outputId": "4116ea69-3e16-4ea6-ed02-b6f26dc733d7"
      },
      "source": [
        "df1=pd.read_csv('DatsSetCap.csv')\n",
        "df1.head()"
      ],
      "execution_count": 152,
      "outputs": [
        {
          "output_type": "execute_result",
          "data": {
            "text/html": [
              "<div>\n",
              "<style scoped>\n",
              "    .dataframe tbody tr th:only-of-type {\n",
              "        vertical-align: middle;\n",
              "    }\n",
              "\n",
              "    .dataframe tbody tr th {\n",
              "        vertical-align: top;\n",
              "    }\n",
              "\n",
              "    .dataframe thead th {\n",
              "        text-align: right;\n",
              "    }\n",
              "</style>\n",
              "<table border=\"1\" class=\"dataframe\">\n",
              "  <thead>\n",
              "    <tr style=\"text-align: right;\">\n",
              "      <th></th>\n",
              "      <th>Product_Name</th>\n",
              "      <th>Price</th>\n",
              "      <th>Total Discount</th>\n",
              "      <th>Rating</th>\n",
              "      <th>Display_size</th>\n",
              "      <th>Operating_system</th>\n",
              "      <th>Screen_Resolution</th>\n",
              "      <th>Speaker Output</th>\n",
              "    </tr>\n",
              "  </thead>\n",
              "  <tbody>\n",
              "    <tr>\n",
              "      <th>0</th>\n",
              "      <td>Vu Premium</td>\n",
              "      <td>38999</td>\n",
              "      <td>48</td>\n",
              "      <td>4.4</td>\n",
              "      <td>139.0</td>\n",
              "      <td>0</td>\n",
              "      <td>6</td>\n",
              "      <td>30</td>\n",
              "    </tr>\n",
              "    <tr>\n",
              "      <th>1</th>\n",
              "      <td>Mi 4C</td>\n",
              "      <td>14999</td>\n",
              "      <td>25</td>\n",
              "      <td>4.3</td>\n",
              "      <td>80.0</td>\n",
              "      <td>0</td>\n",
              "      <td>1</td>\n",
              "      <td>20</td>\n",
              "    </tr>\n",
              "    <tr>\n",
              "      <th>2</th>\n",
              "      <td>Mi 5X</td>\n",
              "      <td>41999</td>\n",
              "      <td>30</td>\n",
              "      <td>4.2</td>\n",
              "      <td>125.7</td>\n",
              "      <td>0</td>\n",
              "      <td>6</td>\n",
              "      <td>40</td>\n",
              "    </tr>\n",
              "    <tr>\n",
              "      <th>3</th>\n",
              "      <td>SAMSUNG</td>\n",
              "      <td>17499</td>\n",
              "      <td>12</td>\n",
              "      <td>4.3</td>\n",
              "      <td>80.0</td>\n",
              "      <td>6</td>\n",
              "      <td>1</td>\n",
              "      <td>20</td>\n",
              "    </tr>\n",
              "    <tr>\n",
              "      <th>4</th>\n",
              "      <td>TCL P615</td>\n",
              "      <td>33999</td>\n",
              "      <td>46</td>\n",
              "      <td>4.4</td>\n",
              "      <td>126.0</td>\n",
              "      <td>0</td>\n",
              "      <td>7</td>\n",
              "      <td>24</td>\n",
              "    </tr>\n",
              "  </tbody>\n",
              "</table>\n",
              "</div>"
            ],
            "text/plain": [
              "  Product_Name  Price  ...  Screen_Resolution  Speaker Output\n",
              "0  Vu Premium   38999  ...                  6              30\n",
              "1       Mi 4C   14999  ...                  1              20\n",
              "2       Mi 5X   41999  ...                  6              40\n",
              "3     SAMSUNG   17499  ...                  1              20\n",
              "4    TCL P615   33999  ...                  7              24\n",
              "\n",
              "[5 rows x 8 columns]"
            ]
          },
          "metadata": {},
          "execution_count": 152
        }
      ]
    },
    {
      "cell_type": "markdown",
      "metadata": {
        "id": "qlpu1VB5F1wa"
      },
      "source": [
        "Correlation between the features"
      ]
    },
    {
      "cell_type": "code",
      "metadata": {
        "colab": {
          "base_uri": "https://localhost:8080/",
          "height": 422
        },
        "id": "ziVenris2ru4",
        "outputId": "46d3596d-bd87-48e9-d13b-e9027b0421e5"
      },
      "source": [
        "plt.figure(figsize=(7,5))\n",
        "sns.heatmap(df1.corr(),annot=True,vmin=-1)"
      ],
      "execution_count": 153,
      "outputs": [
        {
          "output_type": "execute_result",
          "data": {
            "text/plain": [
              "<matplotlib.axes._subplots.AxesSubplot at 0x7fc2e1350e10>"
            ]
          },
          "metadata": {},
          "execution_count": 153
        },
        {
          "output_type": "display_data",
          "data": {
            "image/png": "[encoded data removed]",
            "text/plain": [
              "<Figure size 504x360 with 2 Axes>"
            ]
          },
          "metadata": {
            "needs_background": "light"
          }
        }
      ]
    },
    {
      "cell_type": "markdown",
      "metadata": {
        "id": "K-g4wEuKGE5K"
      },
      "source": [
        "From the heatmap generated using correlation we observed that price depends display size, screen resolution and speaker output.\n",
        "\n",
        "Plot the display size, screen resolution and speaker output relation to Price"
      ]
    },
    {
      "cell_type": "code",
      "metadata": {
        "colab": {
          "base_uri": "https://localhost:8080/",
          "height": 388
        },
        "id": "y0lBaWpV3VH5",
        "outputId": "daceee81-f08b-420b-ef50-a2a88b1745f4"
      },
      "source": [
        "fig, axes = plt.subplots(1, 3, figsize=(15, 5), sharey=True)\n",
        "fig.suptitle('Relation to Price')\n",
        "\n",
        "# Plot Speaker Output v/s Price\n",
        "sns.lineplot(ax=axes[0], x=df1['Speaker Output'], y=df1['Price'])\n",
        "axes[0].set_title(\"Speaker Output v/s Price\")\n",
        "\n",
        "# Plot Display_size v/s Price\n",
        "sns.lineplot(ax=axes[1], x=df1['Display_size'], y=df1['Price'])\n",
        "axes[1].set_title(\"Display_size v/s Price\")\n",
        "\n",
        "# Plot Screen_Resolution v/s Price\n",
        "sns.lineplot(ax=axes[2], x=df1['Screen_Resolution'], y=df1['Price'])\n",
        "axes[2].set_title(\"Screen_Resolution v/s Price\")\n"
      ],
      "execution_count": 160,
      "outputs": [
        {
          "output_type": "execute_result",
          "data": {
            "text/plain": [
              "Text(0.5, 1.0, 'Screen_Resolution v/s Price')"
            ]
          },
          "metadata": {},
          "execution_count": 160
        },
        {
          "output_type": "display_data",
          "data": {
            "image/png": "[encoded data removed]",
            "text/plain": [
              "<Figure size 1080x360 with 3 Axes>"
            ]
          },
          "metadata": {
            "needs_background": "light"
          }
        }
      ]
    },
    {
      "cell_type": "code",
      "metadata": {
        "colab": {
          "base_uri": "https://localhost:8080/",
          "height": 362
        },
        "id": "vf2yxil3qQ9o",
        "outputId": "4bf7bce4-bc24-4ad8-c827-d8adb4620b36"
      },
      "source": [
        "sns.distplot(df1.Price)"
      ],
      "execution_count": 161,
      "outputs": [
        {
          "output_type": "stream",
          "name": "stderr",
          "text": [
            "/usr/local/lib/python3.7/dist-packages/seaborn/distributions.py:2619: FutureWarning: `distplot` is a deprecated function and will be removed in a future version. Please adapt your code to use either `displot` (a figure-level function with similar flexibility) or `histplot` (an axes-level function for histograms).\n",
            "  warnings.warn(msg, FutureWarning)\n"
          ]
        },
        {
          "output_type": "execute_result",
          "data": {
            "text/plain": [
              "<matplotlib.axes._subplots.AxesSubplot at 0x7fc2e2f11950>"
            ]
          },
          "metadata": {},
          "execution_count": 161
        },
        {
          "output_type": "display_data",
          "data": {
            "image/png": "[encoded data removed]",
            "text/plain": [
              "<Figure size 432x288 with 1 Axes>"
            ]
          },
          "metadata": {
            "needs_background": "light"
          }
        }
      ]
    },
    {
      "cell_type": "code",
      "metadata": {
        "colab": {
          "base_uri": "https://localhost:8080/",
          "height": 388
        },
        "id": "_GWSDLpvq5gb",
        "outputId": "2e229c7d-1aff-430a-8de4-ec5c313b8c0b"
      },
      "source": [
        "fig, axes = plt.subplots(1, 3, figsize=(15, 5), sharey=True)\n",
        "fig.suptitle('Relation to Price')\n",
        "\n",
        "# Plot Speaker Output v/s Price\n",
        "sns.barplot(ax=axes[0], x=df1['Speaker Output'], y=df1['Price'])\n",
        "axes[0].set_title(\"Speaker Output v/s Price\")\n",
        "\n",
        "# Plot Display_size v/s Price\n",
        "sns.barplot(ax=axes[1], x=df1['Display_size'], y=df1['Price'])\n",
        "axes[1].set_title(\"Display_size v/s Price\")\n",
        "\n",
        "# Plot Screen_Resolution v/s Price\n",
        "sns.barplot(ax=axes[2], x=df1['Screen_Resolution'], y=df1['Price'])\n",
        "axes[2].set_title(\"Screen_Resolution v/s Price\")"
      ],
      "execution_count": 162,
      "outputs": [
        {
          "output_type": "execute_result",
          "data": {
            "text/plain": [
              "Text(0.5, 1.0, 'Screen_Resolution v/s Price')"
            ]
          },
          "metadata": {},
          "execution_count": 162
        },
        {
          "output_type": "display_data",
          "data": {
            "image/png": "[encoded data removed]",
            "text/plain": [
              "<Figure size 1080x360 with 3 Axes>"
            ]
          },
          "metadata": {
            "needs_background": "light"
          }
        }
      ]
    },
    {
      "cell_type": "code",
      "metadata": {
        "id": "LP_6EdMbrgeh"
      },
      "source": [
        ""
      ],
      "execution_count": null,
      "outputs": []
    }
  ]
}